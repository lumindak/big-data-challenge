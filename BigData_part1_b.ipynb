{
  "nbformat": 4,
  "nbformat_minor": 0,
  "metadata": {
    "colab": {
      "name": "BigData_part1_b.ipynb",
      "provenance": [],
      "collapsed_sections": []
    },
    "kernelspec": {
      "name": "python3",
      "display_name": "Python 3"
    }
  },
  "cells": [
    {
      "cell_type": "code",
      "metadata": {
        "id": "a3_2upzo8_Ji",
        "colab_type": "code",
        "colab": {
          "base_uri": "https://localhost:8080/",
          "height": 442
        },
        "outputId": "b6181179-4c2f-4b1c-c1b4-3e8516800110"
      },
      "source": [
        "# Install Java, Spark, and Findspark\n",
        "!apt-get update\n",
        "!apt-get install openjdk-8-jdk-headless -qq > /dev/null\n",
        "!wget -q -c http://www-us.apache.org/dist/spark/spark-2.4.6/spark-2.4.6-bin-hadoop2.7.tgz\n",
        "!tar xf spark-2.4.6-bin-hadoop2.7.tgz\n",
        "!pip install -q findspark\n",
        "\n",
        "# Set Environment Variables\n",
        "import os\n",
        "os.environ[\"JAVA_HOME\"] = \"/usr/lib/jvm/java-8-openjdk-amd64\"\n",
        "os.environ[\"SPARK_HOME\"] = \"/content/spark-2.4.6-bin-hadoop2.7\"\n",
        "\n",
        "# Start a SparkSession\n",
        "import findspark\n",
        "findspark.init()"
      ],
      "execution_count": null,
      "outputs": [
        {
          "output_type": "stream",
          "text": [
            "\r0% [Working]\r            \rGet:1 https://cloud.r-project.org/bin/linux/ubuntu bionic-cran35/ InRelease [3,626 B]\n",
            "Ign:2 https://developer.download.nvidia.com/compute/cuda/repos/ubuntu1804/x86_64  InRelease\n",
            "Ign:3 https://developer.download.nvidia.com/compute/machine-learning/repos/ubuntu1804/x86_64  InRelease\n",
            "Get:4 http://security.ubuntu.com/ubuntu bionic-security InRelease [88.7 kB]\n",
            "Get:5 https://developer.download.nvidia.com/compute/cuda/repos/ubuntu1804/x86_64  Release [697 B]\n",
            "Hit:6 https://developer.download.nvidia.com/compute/machine-learning/repos/ubuntu1804/x86_64  Release\n",
            "Get:7 https://developer.download.nvidia.com/compute/cuda/repos/ubuntu1804/x86_64  Release.gpg [836 B]\n",
            "Hit:8 http://archive.ubuntu.com/ubuntu bionic InRelease\n",
            "Hit:9 http://ppa.launchpad.net/graphics-drivers/ppa/ubuntu bionic InRelease\n",
            "Get:10 http://archive.ubuntu.com/ubuntu bionic-updates InRelease [88.7 kB]\n",
            "Get:11 http://ppa.launchpad.net/marutter/c2d4u3.5/ubuntu bionic InRelease [15.4 kB]\n",
            "Ign:13 https://developer.download.nvidia.com/compute/cuda/repos/ubuntu1804/x86_64  Packages\n",
            "Get:13 https://developer.download.nvidia.com/compute/cuda/repos/ubuntu1804/x86_64  Packages [255 kB]\n",
            "Get:14 http://archive.ubuntu.com/ubuntu bionic-backports InRelease [74.6 kB]\n",
            "Get:15 http://security.ubuntu.com/ubuntu bionic-security/main amd64 Packages [1,038 kB]\n",
            "Get:16 http://security.ubuntu.com/ubuntu bionic-security/universe amd64 Packages [884 kB]\n",
            "Get:17 http://security.ubuntu.com/ubuntu bionic-security/multiverse amd64 Packages [9,558 B]\n",
            "Get:18 http://ppa.launchpad.net/marutter/c2d4u3.5/ubuntu bionic/main Sources [1,857 kB]\n",
            "Get:19 http://archive.ubuntu.com/ubuntu bionic-updates/multiverse amd64 Packages [27.1 kB]\n",
            "Get:20 http://archive.ubuntu.com/ubuntu bionic-updates/universe amd64 Packages [1,413 kB]\n",
            "Get:21 http://archive.ubuntu.com/ubuntu bionic-updates/main amd64 Packages [1,336 kB]\n",
            "Get:22 http://archive.ubuntu.com/ubuntu bionic-updates/restricted amd64 Packages [116 kB]\n",
            "Get:23 http://ppa.launchpad.net/marutter/c2d4u3.5/ubuntu bionic/main amd64 Packages [896 kB]\n",
            "Fetched 8,104 kB in 4s (1,883 kB/s)\n",
            "Reading package lists... Done\n"
          ],
          "name": "stdout"
        }
      ]
    },
    {
      "cell_type": "code",
      "metadata": {
        "id": "7_z-JF0J0kJb",
        "colab_type": "code",
        "colab": {
          "base_uri": "https://localhost:8080/",
          "height": 204
        },
        "outputId": "08c29dcb-2348-4d5f-91f6-c7db595d9e6e"
      },
      "source": [
        "!wget https://jdbc.postgresql.org/download/postgresql-42.2.9.jar"
      ],
      "execution_count": null,
      "outputs": [
        {
          "output_type": "stream",
          "text": [
            "--2020-08-14 13:46:37--  https://jdbc.postgresql.org/download/postgresql-42.2.9.jar\n",
            "Resolving jdbc.postgresql.org (jdbc.postgresql.org)... 72.32.157.228, 2001:4800:3e1:1::228\n",
            "Connecting to jdbc.postgresql.org (jdbc.postgresql.org)|72.32.157.228|:443... connected.\n",
            "HTTP request sent, awaiting response... 200 OK\n",
            "Length: 914037 (893K) [application/java-archive]\n",
            "Saving to: ‘postgresql-42.2.9.jar’\n",
            "\n",
            "postgresql-42.2.9.j 100%[===================>] 892.61K  3.65MB/s    in 0.2s    \n",
            "\n",
            "2020-08-14 13:46:37 (3.65 MB/s) - ‘postgresql-42.2.9.jar’ saved [914037/914037]\n",
            "\n"
          ],
          "name": "stdout"
        }
      ]
    },
    {
      "cell_type": "code",
      "metadata": {
        "id": "jaMdPfIS9Btb",
        "colab_type": "code",
        "colab": {}
      },
      "source": [
        "\n",
        "# Start Spark session\n",
        "# from pyspark.sql import SparkSession\n",
        "# spark = SparkSession.builder.appName(\"DataFrameBasics\").getOrCreate()\n",
        "from pyspark.sql import SparkSession\n",
        "spark = SparkSession.builder.appName(\"CloudETL\").config(\"spark.driver.extraClassPath\",\"/content/postgresql-42.2.9.jar\").getOrCreate()"
      ],
      "execution_count": null,
      "outputs": []
    },
    {
      "cell_type": "code",
      "metadata": {
        "id": "GUW3ZUcN-FbL",
        "colab_type": "code",
        "colab": {
          "base_uri": "https://localhost:8080/",
          "height": 479
        },
        "outputId": "4c93f2c8-286a-4978-b773-3cb6d2f06b75"
      },
      "source": [
        "# from pyspark import SparkFiles\n",
        "# #url = \"https://drive.google.com/file/d/1TYor4zGC30w8zGPXa9l0L0bc447wVMOX/view?usp=sharing\"\n",
        "# from google.colab import drive\n",
        "# drive.mount('/gdrive',force_remount=True)\n",
        "# import glob\n",
        "\n",
        "# url = glob.glob(\"/gdrive/My Drive/\")\n",
        "#s3://data-boogtcamp-luminda/amazon_reviews_us_Watches_v1_00.tsv\n",
        "from pyspark import SparkFiles\n",
        "url=\"https://data-boogtcamp-luminda.s3.us-east-2.amazonaws.com/amazon_reviews_us_Watches_v1_00.tsv\"\n",
        "spark.sparkContext.addFile(url)\n",
        "user_data_df = spark.read.csv(SparkFiles.get(\"amazon_reviews_us_Watches_v1_00.tsv\"), sep=\"\\t\", header=True, inferSchema=True)\n",
        "\n",
        "# Show DataFrame\n",
        "user_data_df.show()"
      ],
      "execution_count": null,
      "outputs": [
        {
          "output_type": "stream",
          "text": [
            "+-----------+-----------+--------------+----------+--------------+--------------------+----------------+-----------+-------------+-----------+----+-----------------+--------------------+--------------------+-------------------+\n",
            "|marketplace|customer_id|     review_id|product_id|product_parent|       product_title|product_category|star_rating|helpful_votes|total_votes|vine|verified_purchase|     review_headline|         review_body|        review_date|\n",
            "+-----------+-----------+--------------+----------+--------------+--------------------+----------------+-----------+-------------+-----------+----+-----------------+--------------------+--------------------+-------------------+\n",
            "|         US|    3653882|R3O9SGZBVQBV76|B00FALQ1ZC|     937001370|Invicta Women's 1...|         Watches|          5|            0|          0|   N|                Y|          Five Stars|Absolutely love t...|2015-08-31 00:00:00|\n",
            "|         US|   14661224| RKH8BNC3L5DLF|B00D3RGO20|     484010722|Kenneth Cole New ...|         Watches|          5|            0|          0|   N|                Y|I love thiswatch ...|I love this watch...|2015-08-31 00:00:00|\n",
            "|         US|   27324930|R2HLE8WKZSU3NL|B00DKYC7TK|     361166390|Ritche 22mm Black...|         Watches|          2|            1|          1|   N|                Y|           Two Stars|           Scratches|2015-08-31 00:00:00|\n",
            "|         US|    7211452|R31U3UH5AZ42LL|B000EQS1JW|     958035625|Citizen Men's BM8...|         Watches|          5|            0|          0|   N|                Y|          Five Stars|It works well on ...|2015-08-31 00:00:00|\n",
            "|         US|   12733322|R2SV659OUJ945Y|B00A6GFD7S|     765328221|Orient ER27009B M...|         Watches|          4|            0|          0|   N|                Y|Beautiful face, b...|Beautiful watch f...|2015-08-31 00:00:00|\n",
            "|         US|    6576411| RA51CP8TR5A2L|B00EYSOSE8|     230493695|Casio Men's GW-94...|         Watches|          5|            0|          0|   N|                Y|       No complaints|i love this watch...|2015-08-31 00:00:00|\n",
            "|         US|   11811565| RB2Q7DLDN6TH6|B00WM0QA3M|     549298279|Fossil Women's ES...|         Watches|          5|            1|          1|   N|                Y|          Five Stars|for my wife and s...|2015-08-31 00:00:00|\n",
            "|         US|   49401598|R2RHFJV0UYBK3Y|B00A4EYBR0|     844009113|INFANTRY Mens Nig...|         Watches|          1|            1|          5|   N|                N|I was about to bu...|I was about to bu...|2015-08-31 00:00:00|\n",
            "|         US|   45925069|R2Z6JOQ94LFHEP|B00MAMPGGE|     263720892|G-Shock Men's Gre...|         Watches|          5|            1|          2|   N|                Y|      Perfect watch!|Watch is perfect....|2015-08-31 00:00:00|\n",
            "|         US|   44751341| RX27XIIWY5JPB|B004LBPB7Q|     124278407|Heiden Quad Watch...|         Watches|          4|            0|          0|   N|                Y|Great quality and...|Great quality and...|2015-08-31 00:00:00|\n",
            "|         US|    9962330|R15C7QEZT0LGZN|B00KGTVGKS|      28017857|Fossil Women's ES...|         Watches|          4|            2|          2|   N|                Y|           Satisfied|The watch was pre...|2015-08-31 00:00:00|\n",
            "|         US|   16097204|R361XSS37V0NCZ|B0039UT5OU|     685450910|Casio General Men...|         Watches|          1|            0|          0|   N|                N|I do not think th...|I bought this wat...|2015-08-31 00:00:00|\n",
            "|         US|   51330346| ROTNLALUAJAUB|B00MPF0XJQ|     767769082|2Tone Gold Silver...|         Watches|          3|            0|          0|   N|                Y|         Three Stars|It is a cheap wat...|2015-08-31 00:00:00|\n",
            "|         US|    4201739|R2DYX7QU6BGOHR|B003P1OHHS|     648595227|Bulova Men's 98B1...|         Watches|          5|            0|          0|   N|                Y|          Five Stars|Heavier than i th...|2015-08-31 00:00:00|\n",
            "|         US|   26339765| RWASY7FKI7QOT|B00R70YEOE|     457338020|Casio - G-Shock -...|         Watches|          5|            2|          3|   N|                Y|  Worth it - love it|Had it for severa...|2015-08-31 00:00:00|\n",
            "|         US|    2692576|R2KKYZIN3CCL21|B000FVE3BG|     824370661|Invicta Men's 332...|         Watches|          5|            0|          0|   N|                Y|This is when diff...|This one is diffe...|2015-08-31 00:00:00|\n",
            "|         US|   44713366|R22H4FGVD5O52O|B008X6JB12|     814431355|Seiko Women's SUT...|         Watches|          4|            1|          1|   N|                Y|Thewatch is attra...|The watch is attr...|2015-08-31 00:00:00|\n",
            "|         US|   32778769|R11UACZERCM4ZY|B0040UOFPW|     187700878|Anne Klein Women'...|         Watches|          5|            0|          0|   N|                Y|          Five Stars|      said my wife..|2015-08-31 00:00:00|\n",
            "|         US|   27258523|R1AT8NQ38UQOL6|B00UR2R5UY|     594315262|Guess U13630G1 Me...|         Watches|          5|            0|          0|   N|                Y|          Five Stars|Nice watch, on ti...|2015-08-31 00:00:00|\n",
            "|         US|   42646538|R2NCZRQGIF1Q75|B00HFF57L0|     520810507|Nixon Men's Geo V...|         Watches|          4|            0|          0|   N|                Y|        Very stylish|Looks great and l...|2015-08-31 00:00:00|\n",
            "+-----------+-----------+--------------+----------+--------------+--------------------+----------------+-----------+-------------+-----------+----+-----------------+--------------------+--------------------+-------------------+\n",
            "only showing top 20 rows\n",
            "\n"
          ],
          "name": "stdout"
        }
      ]
    },
    {
      "cell_type": "code",
      "metadata": {
        "id": "o-hrK2CjCYdn",
        "colab_type": "code",
        "colab": {
          "base_uri": "https://localhost:8080/",
          "height": 306
        },
        "outputId": "33a19857-85d5-4854-d2ac-f183ec852da0"
      },
      "source": [
        "user_data_df.printSchema()"
      ],
      "execution_count": null,
      "outputs": [
        {
          "output_type": "stream",
          "text": [
            "root\n",
            " |-- marketplace: string (nullable = true)\n",
            " |-- customer_id: integer (nullable = true)\n",
            " |-- review_id: string (nullable = true)\n",
            " |-- product_id: string (nullable = true)\n",
            " |-- product_parent: integer (nullable = true)\n",
            " |-- product_title: string (nullable = true)\n",
            " |-- product_category: string (nullable = true)\n",
            " |-- star_rating: integer (nullable = true)\n",
            " |-- helpful_votes: integer (nullable = true)\n",
            " |-- total_votes: integer (nullable = true)\n",
            " |-- vine: string (nullable = true)\n",
            " |-- verified_purchase: string (nullable = true)\n",
            " |-- review_headline: string (nullable = true)\n",
            " |-- review_body: string (nullable = true)\n",
            " |-- review_date: timestamp (nullable = true)\n",
            "\n"
          ],
          "name": "stdout"
        }
      ]
    },
    {
      "cell_type": "code",
      "metadata": {
        "id": "89xPR49P9670",
        "colab_type": "code",
        "colab": {
          "base_uri": "https://localhost:8080/",
          "height": 34
        },
        "outputId": "2a37d7c0-3ae4-47df-fad0-1c8652a98772"
      },
      "source": [
        "print(user_data_df.count())"
      ],
      "execution_count": null,
      "outputs": [
        {
          "output_type": "stream",
          "text": [
            "960872\n"
          ],
          "name": "stdout"
        }
      ]
    },
    {
      "cell_type": "code",
      "metadata": {
        "id": "K0JLwrZFlb4L",
        "colab_type": "code",
        "colab": {
          "base_uri": "https://localhost:8080/",
          "height": 34
        },
        "outputId": "963d3c52-885f-4bd2-8e6b-db633dc3be50"
      },
      "source": [
        "print(len(user_data_df.columns))\n"
      ],
      "execution_count": null,
      "outputs": [
        {
          "output_type": "stream",
          "text": [
            "15\n"
          ],
          "name": "stdout"
        }
      ]
    },
    {
      "cell_type": "code",
      "metadata": {
        "id": "gk2EOKd7oSwp",
        "colab_type": "code",
        "colab": {
          "base_uri": "https://localhost:8080/",
          "height": 34
        },
        "outputId": "fcde203e-e1ae-49e2-ffaa-f32afe8826b9"
      },
      "source": [
        "df = user_data_df.dropna()\n",
        "print(df.count())"
      ],
      "execution_count": null,
      "outputs": [
        {
          "output_type": "stream",
          "text": [
            "960679\n"
          ],
          "name": "stdout"
        }
      ]
    },
    {
      "cell_type": "code",
      "metadata": {
        "id": "CdEBL4D5uUu0",
        "colab_type": "code",
        "colab": {}
      },
      "source": [
        "# mode = \"append\"\n",
        "# jdbc_url=\"jdbc:postgresql://http://127.0.0.1:53270/browser/creditcard\"\n",
        "# config = {\"user\":\"postgres\", \n",
        "#           \"password\": \"postgres\", \n",
        "#           \"driver\":\"org.postgresql.Driver\"}\n",
        "#toysdatabase.c6cphbc1v9gp.us-east-2.rds.amazonaws.com\n",
        "\n",
        "mode = \"append\"\n",
        "jdbc_url=\"jdbc:postgresql://toysdatabase.c6cphbc1v9gp.us-east-2.rds.amazonaws.com:5432/watches\"\n",
        "config = {\"user\":\"postgres\", \n",
        "          \"password\": \"postgres\", \n",
        "          \"driver\":\"org.postgresql.Driver\"}"
      ],
      "execution_count": null,
      "outputs": []
    },
    {
      "cell_type": "code",
      "metadata": {
        "id": "GAZychtGc1si",
        "colab_type": "code",
        "colab": {}
      },
      "source": [
        "# Write DataFrame to active_user table in RDS\n",
        "\n",
        "df.write.jdbc(url=jdbc_url, table='watches', mode=mode, properties=config)\n"
      ],
      "execution_count": null,
      "outputs": []
    },
    {
      "cell_type": "code",
      "metadata": {
        "id": "qOw-fxWBnDkR",
        "colab_type": "code",
        "colab": {}
      },
      "source": [
        ""
      ],
      "execution_count": null,
      "outputs": []
    }
  ]
}